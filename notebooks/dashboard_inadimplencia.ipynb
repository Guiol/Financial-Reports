{
 "cells": [
  {
   "cell_type": "code",
   "execution_count": null,
   "id": "6b2fc171",
   "metadata": {},
   "outputs": [
    {
     "name": "stdout",
     "output_type": "stream",
     "text": [
      "                            aluno valor_liquido\n",
      "6167  Marina Gonzalez de Carvalho         $0,00\n",
      "6168  Marina Gonzalez de Carvalho         $0,00\n",
      "6169  Marina Gonzalez de Carvalho       $448,00\n",
      "6170  Marina Gonzalez de Carvalho         $0,00\n",
      "6171           Arthur Silva de Sá        $50,00\n"
     ]
    }
   ],
   "source": [
    "import pandas as pd\n",
    "import matplotlib.pyplot as plt\n",
    "%matplotlib inline\n",
    "\n",
    "\n",
    "#Carregando os dados consolinados\n",
    "\n",
    "df_consolidado = pd.read_csv('../datas/df_consolidado.csv',sep=';',encoding='latin-1')\n",
    "\n",
    "\n",
    "print(df_consolidado[['aluno','valor_liquido']].tail())\n",
    "\n"
   ]
  }
 ],
 "metadata": {
  "kernelspec": {
   "display_name": "Python 3 (ipykernel)",
   "language": "python",
   "name": "python3"
  },
  "language_info": {
   "codemirror_mode": {
    "name": "ipython",
    "version": 3
   },
   "file_extension": ".py",
   "mimetype": "text/x-python",
   "name": "python",
   "nbconvert_exporter": "python",
   "pygments_lexer": "ipython3",
   "version": "3.13.1"
  }
 },
 "nbformat": 4,
 "nbformat_minor": 5
}
