{
 "cells": [
  {
   "cell_type": "code",
   "execution_count": null,
   "id": "1346bac4",
   "metadata": {},
   "outputs": [
    {
     "name": "stdout",
     "output_type": "stream",
     "text": [
      "Arquivos encontrados: \n",
      " - model1_may.csv\n"
     ]
    }
   ],
   "source": [
    "import pandas as pd\n",
    "from pathlib import Path\n",
    "\n",
    "\n",
    "pasta_dados = Path(\"../datas\")\n",
    "\n",
    "arquivos_csv = list(pasta_dados.glob(\"*.csv\"))\n",
    "\n",
    "print(\"Arquivos encontrados: \")\n",
    "\n",
    "for arq in arquivos_csv:\n",
    "    print(' -',arq.name)\n",
    "\n",
    "\n",
    "#Leitura e consolidação dos CSVs\n",
    "\n",
    "for arquivo in arquivos_csv:\n",
    "\n",
    "    df_temp = pd.read_csv(arquivo,sep=';',encoding='utf8')\n",
    "\n",
    "    #Nova coluna de indentificação do snapshot\n",
    "    #Usando o nome do arquivo como identificador\n",
    "    df_temp['snapshot'] = arquivo.stem\n",
    "\n",
    "    \n",
    "\n",
    "\n",
    "\n"
   ]
  }
 ],
 "metadata": {
  "kernelspec": {
   "display_name": "venv",
   "language": "python",
   "name": "python3"
  },
  "language_info": {
   "codemirror_mode": {
    "name": "ipython",
    "version": 3
   },
   "file_extension": ".py",
   "mimetype": "text/x-python",
   "name": "python",
   "nbconvert_exporter": "python",
   "pygments_lexer": "ipython3",
   "version": "3.13.1"
  }
 },
 "nbformat": 4,
 "nbformat_minor": 5
}
